{
 "cells": [
  {
   "cell_type": "markdown",
   "id": "5e1e70be-ffe2-406d-b4dc-2a251b78bc2c",
   "metadata": {},
   "source": [
    "# De cadena de texto (string) a fórmula"
   ]
  },
  {
   "cell_type": "code",
   "execution_count": 7,
   "id": "3b585f48-ca78-4c1f-ad80-d8277c67fc48",
   "metadata": {
    "tags": []
   },
   "outputs": [],
   "source": [
    "s = 'x ** 2 + 2 * x - 5'  # Cádena de texto con la fórmula"
   ]
  },
  {
   "cell_type": "code",
   "execution_count": 15,
   "id": "5b93a427-e24d-4e80-91b5-bf608732cdc0",
   "metadata": {},
   "outputs": [],
   "source": [
    "r = range(-5, 6)  # Rango de x de -5 a +5"
   ]
  },
  {
   "cell_type": "code",
   "execution_count": 32,
   "id": "f94e36db-e88e-4e41-95a6-c1c11c05bef9",
   "metadata": {},
   "outputs": [],
   "source": [
    "fx = []\n",
    "for x in r:\n",
    "    fx.append(eval(s))"
   ]
  },
  {
   "cell_type": "code",
   "execution_count": 33,
   "id": "0feec1df-a9e3-44af-8981-56266ca75180",
   "metadata": {},
   "outputs": [
    {
     "data": {
      "text/plain": [
       "[10, 3, -2, -5, -6, -5, -2, 3, 10, 19, 30]"
      ]
     },
     "execution_count": 33,
     "metadata": {},
     "output_type": "execute_result"
    }
   ],
   "source": [
    "fx"
   ]
  },
  {
   "cell_type": "markdown",
   "id": "d350df7e-6f02-47af-9123-2c234d88bc2f",
   "metadata": {},
   "source": [
    "---"
   ]
  },
  {
   "cell_type": "code",
   "execution_count": 1,
   "id": "6305c6b1-b995-4823-abd8-ef1dd1dd8aa3",
   "metadata": {},
   "outputs": [],
   "source": [
    "import numpy as np"
   ]
  },
  {
   "cell_type": "code",
   "execution_count": 2,
   "id": "f717bd83-3fd3-4e9f-bf23-272225d6b24f",
   "metadata": {},
   "outputs": [
    {
     "data": {
      "text/plain": [
       "array([1, 2, 3, 4, 5])"
      ]
     },
     "execution_count": 2,
     "metadata": {},
     "output_type": "execute_result"
    }
   ],
   "source": [
    "x = np.arange(1, 6)\n",
    "x"
   ]
  },
  {
   "cell_type": "code",
   "execution_count": 10,
   "id": "97a0ecf7-c6e5-43a4-9fae-0dd791939b8c",
   "metadata": {},
   "outputs": [],
   "source": [
    "fx1 = []\n",
    "fx1.append(eval(s))"
   ]
  },
  {
   "cell_type": "code",
   "execution_count": 11,
   "id": "f9dc5866-96e3-4a0c-812d-0312ac38aa1a",
   "metadata": {},
   "outputs": [
    {
     "data": {
      "text/plain": [
       "[array([-2,  3, 10, 19, 30])]"
      ]
     },
     "execution_count": 11,
     "metadata": {},
     "output_type": "execute_result"
    }
   ],
   "source": [
    "fx1"
   ]
  },
  {
   "cell_type": "code",
   "execution_count": null,
   "id": "fed4332d-f32d-4e0e-9bd9-de7f37a3b4f1",
   "metadata": {},
   "outputs": [],
   "source": []
  }
 ],
 "metadata": {
  "kernelspec": {
   "display_name": "Python 3 (ipykernel)",
   "language": "python",
   "name": "python3"
  },
  "language_info": {
   "codemirror_mode": {
    "name": "ipython",
    "version": 3
   },
   "file_extension": ".py",
   "mimetype": "text/x-python",
   "name": "python",
   "nbconvert_exporter": "python",
   "pygments_lexer": "ipython3",
   "version": "3.9.12"
  }
 },
 "nbformat": 4,
 "nbformat_minor": 5
}
