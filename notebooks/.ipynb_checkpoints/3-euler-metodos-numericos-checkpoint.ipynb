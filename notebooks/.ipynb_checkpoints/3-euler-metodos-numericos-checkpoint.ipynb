{
 "cells": [
  {
   "cell_type": "markdown",
   "id": "c5b6125d-4213-453f-8e99-ee61d8611ab7",
   "metadata": {},
   "source": [
    "# Método de Euler según\n",
    "# Métodos numéricos para ingenieros"
   ]
  },
  {
   "cell_type": "markdown",
   "id": "0e99b308-4f27-463c-8c05-15e9e30aa7e9",
   "metadata": {},
   "source": [
    "---\n",
    "## Primera versión del método de Euler"
   ]
  },
  {
   "cell_type": "code",
   "execution_count": 1,
   "id": "532fc661-c532-4765-9466-d782ac3e4801",
   "metadata": {},
   "outputs": [],
   "source": [
    "# Intervalo de integración\n",
    "xi = 0\n",
    "xf = 4"
   ]
  },
  {
   "cell_type": "code",
   "execution_count": 2,
   "id": "7dd5e863-264a-4ce2-b8fc-94d0ab7b9f4b",
   "metadata": {},
   "outputs": [],
   "source": [
    "# Variables iniciales\n",
    "x = xi\n",
    "y = 1"
   ]
  },
  {
   "cell_type": "code",
   "execution_count": 3,
   "id": "92335a46-6943-4ebd-9660-8458d71ac60e",
   "metadata": {},
   "outputs": [],
   "source": [
    "# Establece el tamaño del paso y determina el número de pasos de cálculo\n",
    "dx = 0.5\n",
    "nc = (xf - xi) / dx"
   ]
  },
  {
   "cell_type": "code",
   "execution_count": 4,
   "id": "7630134e-bf96-45e2-894d-a1a94821ae29",
   "metadata": {},
   "outputs": [
    {
     "name": "stdout",
     "output_type": "stream",
     "text": [
      "x = 0; y = 1\n"
     ]
    }
   ],
   "source": [
    "# Condiciones de salida inicial\n",
    "print(f'x = {x}; y = {y}')"
   ]
  },
  {
   "cell_type": "code",
   "execution_count": 6,
   "id": "74b9c50f-0bd1-4367-8d9a-696b498209cc",
   "metadata": {},
   "outputs": [
    {
     "name": "stdout",
     "output_type": "stream",
     "text": [
      "0 0 1 0\n",
      "1 0.5 5.25 8.5\n",
      "2 1.0 5.875 1.25\n",
      "3 1.5 5.125 -1.5\n",
      "4 2.0 4.5 -1.25\n",
      "5 2.5 4.75 0.5\n",
      "6 3.0 5.875 2.25\n",
      "7 3.5 7.125 2.5\n",
      "8 4.0 7.0 -0.25\n"
     ]
    }
   ],
   "source": [
    "# Ciclo para implementar el método de Euler y despliegue de resultados\n",
    "i = 1\n",
    "dydx = 0\n",
    "for i in range(int(nc) + 1):\n",
    "    print(i, x, y, dydx)\n",
    "    dydx = -2 * x**3 + 12 * x**2 - 20 * x + 8.5\n",
    "    y = y + dydx * dx\n",
    "    x = x + dx"
   ]
  },
  {
   "cell_type": "markdown",
   "id": "d7e2d182-d4dd-4d1e-964d-7957aaa01c83",
   "metadata": {},
   "source": [
    "---\n",
    "## Versión mejorada"
   ]
  },
  {
   "cell_type": "markdown",
   "id": "1254b3e4-6537-4741-9ceb-3c1119852389",
   "metadata": {},
   "source": [
    "### Programa principal o manejador"
   ]
  },
  {
   "cell_type": "code",
   "execution_count": 41,
   "id": "6db333a4-9aa3-4505-b6a8-4567e442c21d",
   "metadata": {},
   "outputs": [],
   "source": [
    "y = 0  # Valor inicial de la variable dependiente.\n",
    "xi = 0  # Valor inicial de la variable independiente.\n",
    "xf = 4  # Valor final de ña variable independiente.\n",
    "dx = 0.5  # Tamaño del paso.\n",
    "xout = 5  # Intervalo de salida."
   ]
  },
  {
   "cell_type": "code",
   "execution_count": 42,
   "id": "e6fb940e-28dd-45fd-8443-c18732b9b089",
   "metadata": {},
   "outputs": [],
   "source": [
    "x = xi\n",
    "m = 0\n",
    "xpm = x\n",
    "ypm = y"
   ]
  },
  {
   "cell_type": "code",
   "execution_count": 43,
   "id": "2c1140f5-d6e9-4cc8-8e93-6fb19574b6bd",
   "metadata": {},
   "outputs": [],
   "source": [
    "def integrator(x, y, h, xend):\n",
    "    \"\"\"Rutina para tomar un paso de salida.\"\"\"\n",
    "    if x < xend:\n",
    "        if (xend - x) < h:\n",
    "            h = xend - x\n",
    "        # euler(x, y, h, ynew)\n",
    "        eul = euler(x, y, h)\n",
    "        ynew = eul[1]\n",
    "        y = ynew\n",
    "        return y, h"
   ]
  },
  {
   "cell_type": "code",
   "execution_count": 44,
   "id": "fa20f0cf-96d0-457a-b3e1-3a04cf433e65",
   "metadata": {},
   "outputs": [],
   "source": [
    "def euler(x, y, h):\n",
    "    \"\"\"Método de Euler para una EDO sola.\"\"\"\n",
    "    derivs(x, y, dydx)\n",
    "    ynew = y + dydx * h\n",
    "    x = x + h\n",
    "    return x, ynew"
   ]
  },
  {
   "cell_type": "code",
   "execution_count": 45,
   "id": "5cb74276-6796-4ac8-a7a5-dc834a6af640",
   "metadata": {},
   "outputs": [],
   "source": [
    "def derivs(x, y, dydx):\n",
    "    return -2 * x**3 + 12 * x**2 - 20 * x + 8.5"
   ]
  },
  {
   "cell_type": "code",
   "execution_count": 46,
   "id": "a3633322-2cb7-4090-9920-747b7d0df6da",
   "metadata": {},
   "outputs": [
    {
     "name": "stdout",
     "output_type": "stream",
     "text": [
      "x = 0; y = -3.75\n"
     ]
    }
   ],
   "source": [
    "if x < xf:\n",
    "    xend = x + xout\n",
    "    if xend > xf:\n",
    "        xend = xf\n",
    "    h = dx\n",
    "    integr = integrator(x, y, h, xend)\n",
    "    y = integr[0]\n",
    "    m += 1\n",
    "    xpm = x\n",
    "    ypm = y\n",
    "    print(f'x = {x}; y = {y}')"
   ]
  },
  {
   "cell_type": "markdown",
   "id": "d4579d29-d5e9-4ba1-884b-30e54f55faa3",
   "metadata": {},
   "source": [
    "#### No entiendo que hace."
   ]
  },
  {
   "cell_type": "code",
   "execution_count": null,
   "id": "7743630e-51aa-4666-8f77-bdbf77ddc049",
   "metadata": {},
   "outputs": [],
   "source": []
  }
 ],
 "metadata": {
  "kernelspec": {
   "display_name": "Python 3 (ipykernel)",
   "language": "python",
   "name": "python3"
  },
  "language_info": {
   "codemirror_mode": {
    "name": "ipython",
    "version": 3
   },
   "file_extension": ".py",
   "mimetype": "text/x-python",
   "name": "python",
   "nbconvert_exporter": "python",
   "pygments_lexer": "ipython3",
   "version": "3.9.12"
  }
 },
 "nbformat": 4,
 "nbformat_minor": 5
}
