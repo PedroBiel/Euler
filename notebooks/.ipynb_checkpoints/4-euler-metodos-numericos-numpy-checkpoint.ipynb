{
 "cells": [
  {
   "cell_type": "markdown",
   "id": "d1ce0ebb-be68-4c19-8ed0-d9741c05f0ee",
   "metadata": {
    "tags": []
   },
   "source": [
    "# Método de Euler según\n",
    "# Métodos numéricos para ingenieros\n",
    "# con `numpy`"
   ]
  },
  {
   "cell_type": "markdown",
   "id": "4cfc49d5-d870-46a7-b35b-b4685eaa8200",
   "metadata": {},
   "source": [
    "## Datos de entrada"
   ]
  },
  {
   "cell_type": "code",
   "execution_count": 1,
   "id": "57fd14ed-0572-4b3e-9ddb-625767d5d77c",
   "metadata": {},
   "outputs": [],
   "source": [
    "# Librerías\n",
    "import pandas as pd\n",
    "import numpy as np\n",
    "import matplotlib.pyplot as plt"
   ]
  },
  {
   "cell_type": "code",
   "execution_count": 16,
   "id": "19570a26-998e-4fad-abe0-fe71465d1676",
   "metadata": {},
   "outputs": [],
   "source": [
    "# Función y su derivada\n",
    "def f(x):\n",
    "    return -0.5 * x**4 + 4 * x**3 - 10 * x**2 + 8.5 * x + 1\n",
    "\n",
    "def derivada(x):\n",
    "    return -2 * x**3 + 12 * x**2 - 20 * x + 8.5\n",
    "\n",
    "# Otra función\n",
    "\n",
    "# def f(x):\n",
    "#     return x ** 2\n",
    "\n",
    "# def derivada(x):\n",
    "#     return 2 * x"
   ]
  },
  {
   "cell_type": "code",
   "execution_count": 17,
   "id": "7375d8e1-57ee-4c75-b8fe-0f86228171c8",
   "metadata": {},
   "outputs": [],
   "source": [
    "# Método de Euler\n",
    "def euler(x, y, dydx, dx):\n",
    "    i = 1\n",
    "    for i in range(0, len(x) - 1):\n",
    "        y[i + 1] = y[i] + dydx[i] * dx\n",
    "    return y"
   ]
  },
  {
   "cell_type": "code",
   "execution_count": 18,
   "id": "e9f68d85-5327-45d7-ba94-759c5faf2c7a",
   "metadata": {},
   "outputs": [],
   "source": [
    "# Intervalo de integración\n",
    "xi = 0\n",
    "xf = 4"
   ]
  },
  {
   "cell_type": "code",
   "execution_count": 30,
   "id": "3092c57d-62dc-4c44-bf8f-967129a57e70",
   "metadata": {},
   "outputs": [],
   "source": [
    "# Variables iniciales\n",
    "x_ini = xi\n",
    "y_ini = 1"
   ]
  },
  {
   "cell_type": "code",
   "execution_count": 31,
   "id": "afa297c3-cdf3-44f9-9725-de9be263f82c",
   "metadata": {},
   "outputs": [],
   "source": [
    "# Establece el tamaño del paso, determina el número de pasos de cálculo y establece valores de x\n",
    "dx = 0.5\n",
    "nc = int((xf - xi) / dx)\n",
    "x = np.linspace(xi, xf, int(nc) + 1)"
   ]
  },
  {
   "cell_type": "code",
   "execution_count": 32,
   "id": "4107f822-c1f6-443d-904e-60b5d60411e8",
   "metadata": {},
   "outputs": [
    {
     "data": {
      "text/plain": [
       "array([0. , 0.5, 1. , 1.5, 2. , 2.5, 3. , 3.5, 4. ])"
      ]
     },
     "execution_count": 32,
     "metadata": {},
     "output_type": "execute_result"
    }
   ],
   "source": [
    "x"
   ]
  },
  {
   "cell_type": "markdown",
   "id": "c2bdeb41-4b6c-4ff7-b31c-7990066a4455",
   "metadata": {},
   "source": [
    "## Método de Euler\n"
   ]
  },
  {
   "cell_type": "code",
   "execution_count": 33,
   "id": "5eef494f-4b06-4d83-869c-1cc7dcd57f28",
   "metadata": {},
   "outputs": [],
   "source": [
    "y_euler = np.zeros(len(x))\n",
    "y_euler[0] = y_ini"
   ]
  },
  {
   "cell_type": "code",
   "execution_count": 34,
   "id": "727a5151-8e63-4cd1-8e13-737fdb114d64",
   "metadata": {},
   "outputs": [
    {
     "data": {
      "text/plain": [
       "array([1., 0., 0., 0., 0., 0., 0., 0., 0.])"
      ]
     },
     "execution_count": 34,
     "metadata": {},
     "output_type": "execute_result"
    }
   ],
   "source": [
    "y_euler"
   ]
  },
  {
   "cell_type": "code",
   "execution_count": 35,
   "id": "44472402-aa12-45d5-8b48-d2d37ef48ccf",
   "metadata": {},
   "outputs": [
    {
     "data": {
      "text/plain": [
       "array([0. , 0.5, 1. , 1.5, 2. , 2.5, 3. , 3.5, 4. ])"
      ]
     },
     "execution_count": 35,
     "metadata": {},
     "output_type": "execute_result"
    }
   ],
   "source": [
    "x"
   ]
  },
  {
   "cell_type": "code",
   "execution_count": 36,
   "id": "c9f8e50c-4efd-49fa-a354-512e497ed373",
   "metadata": {},
   "outputs": [],
   "source": [
    "dydx = derivada(x)"
   ]
  },
  {
   "cell_type": "code",
   "execution_count": 37,
   "id": "48830af3-81ed-42b6-b439-8802df9b89dd",
   "metadata": {},
   "outputs": [
    {
     "data": {
      "text/plain": [
       "array([ 8.5 ,  1.25, -1.5 , -1.25,  0.5 ,  2.25,  2.5 , -0.25, -7.5 ])"
      ]
     },
     "execution_count": 37,
     "metadata": {},
     "output_type": "execute_result"
    }
   ],
   "source": [
    "dydx"
   ]
  },
  {
   "cell_type": "code",
   "execution_count": 38,
   "id": "e6d2b6de-5b64-4e3b-858b-efd172fa7c0d",
   "metadata": {},
   "outputs": [],
   "source": [
    "y_euler = euler(x, y_euler, dydx, dx)"
   ]
  },
  {
   "cell_type": "code",
   "execution_count": 39,
   "id": "76f8f9fe-dbc6-46ba-9d05-aa58f7cf11f7",
   "metadata": {},
   "outputs": [
    {
     "data": {
      "text/plain": [
       "array([1.   , 5.25 , 5.875, 5.125, 4.5  , 4.75 , 5.875, 7.125, 7.   ])"
      ]
     },
     "execution_count": 39,
     "metadata": {},
     "output_type": "execute_result"
    }
   ],
   "source": [
    "y_euler"
   ]
  },
  {
   "cell_type": "markdown",
   "id": "1eaf01e2-21b7-4e94-bc46-682144b81aa0",
   "metadata": {},
   "source": [
    "## Gráficas"
   ]
  },
  {
   "cell_type": "code",
   "execution_count": 40,
   "id": "9d1cb4ff-75b9-4003-9574-171baccf85e4",
   "metadata": {},
   "outputs": [
    {
     "data": {
      "image/png": "[encoded data removed]",
      "text/plain": [
       "<Figure size 864x576 with 1 Axes>"
      ]
     },
     "metadata": {
      "needs_background": "light"
     },
     "output_type": "display_data"
    }
   ],
   "source": [
    "plt.figure(figsize = (12, 8))\n",
    "plt.plot(x, y_euler, 'bo--', label='Euler')\n",
    "plt.plot(x, f(x), 'g', label='Exacta')\n",
    "plt.title('Soluciones exacta y aproximada para una ODE', fontsize=22)\n",
    "plt.xlabel('x', fontsize=20)\n",
    "plt.ylabel('f(x)', fontsize=20)\n",
    "plt.grid()\n",
    "plt.legend(loc='lower right')\n",
    "plt.show()"
   ]
  },
  {
   "cell_type": "code",
   "execution_count": null,
   "id": "f88b763f-d794-4d5d-8546-5fc2e148f1a3",
   "metadata": {},
   "outputs": [],
   "source": []
  },
  {
   "cell_type": "code",
   "execution_count": null,
   "id": "95ca0517-f204-411a-b2f7-accf726898ff",
   "metadata": {},
   "outputs": [],
   "source": []
  },
  {
   "cell_type": "code",
   "execution_count": null,
   "id": "adbdd798-4f99-4997-bfa9-764f8715f5ee",
   "metadata": {},
   "outputs": [],
   "source": []
  }
 ],
 "metadata": {
  "kernelspec": {
   "display_name": "Python 3 (ipykernel)",
   "language": "python",
   "name": "python3"
  },
  "language_info": {
   "codemirror_mode": {
    "name": "ipython",
    "version": 3
   },
   "file_extension": ".py",
   "mimetype": "text/x-python",
   "name": "python",
   "nbconvert_exporter": "python",
   "pygments_lexer": "ipython3",
   "version": "3.9.12"
  }
 },
 "nbformat": 4,
 "nbformat_minor": 5
}
