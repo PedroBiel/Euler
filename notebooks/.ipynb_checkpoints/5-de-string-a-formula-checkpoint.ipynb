{
 "cells": [
  {
   "cell_type": "markdown",
   "id": "5e1e70be-ffe2-406d-b4dc-2a251b78bc2c",
   "metadata": {},
   "source": [
    "# De cadena de texto (string) a fórmula"
   ]
  },
  {
   "cell_type": "code",
   "execution_count": 19,
   "id": "3b585f48-ca78-4c1f-ad80-d8277c67fc48",
   "metadata": {
    "tags": []
   },
   "outputs": [],
   "source": [
    "s = 'x ** 2 + 2 * x - 5'  # Cádena de texto con la fórmula"
   ]
  },
  {
   "cell_type": "code",
   "execution_count": 15,
   "id": "5b93a427-e24d-4e80-91b5-bf608732cdc0",
   "metadata": {},
   "outputs": [],
   "source": [
    "r = range(-5, 6)  # Rango de x de -5 a +5"
   ]
  },
  {
   "cell_type": "code",
   "execution_count": 32,
   "id": "f94e36db-e88e-4e41-95a6-c1c11c05bef9",
   "metadata": {},
   "outputs": [],
   "source": [
    "fx = []\n",
    "for x in r:\n",
    "    fx.append(eval(s))"
   ]
  },
  {
   "cell_type": "code",
   "execution_count": 33,
   "id": "0feec1df-a9e3-44af-8981-56266ca75180",
   "metadata": {},
   "outputs": [
    {
     "data": {
      "text/plain": [
       "[10, 3, -2, -5, -6, -5, -2, 3, 10, 19, 30]"
      ]
     },
     "execution_count": 33,
     "metadata": {},
     "output_type": "execute_result"
    }
   ],
   "source": [
    "fx"
   ]
  },
  {
   "cell_type": "code",
   "execution_count": null,
   "id": "394b701c-4b01-426d-a2d3-3f4a1adfea77",
   "metadata": {},
   "outputs": [],
   "source": []
  }
 ],
 "metadata": {
  "kernelspec": {
   "display_name": "Python 3 (ipykernel)",
   "language": "python",
   "name": "python3"
  },
  "language_info": {
   "codemirror_mode": {
    "name": "ipython",
    "version": 3
   },
   "file_extension": ".py",
   "mimetype": "text/x-python",
   "name": "python",
   "nbconvert_exporter": "python",
   "pygments_lexer": "ipython3",
   "version": "3.9.12"
  }
 },
 "nbformat": 4,
 "nbformat_minor": 5
}
